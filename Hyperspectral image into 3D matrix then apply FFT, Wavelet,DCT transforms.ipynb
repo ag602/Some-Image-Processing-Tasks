{
 "cells": [
  {
   "cell_type": "code",
   "execution_count": 148,
   "metadata": {},
   "outputs": [],
   "source": [
    "from spectral import *\n",
    "import cv2\n",
    "import numpy as np"
   ]
  },
  {
   "cell_type": "code",
   "execution_count": 149,
   "metadata": {},
   "outputs": [
    {
     "ename": "TypeError",
     "evalue": "stat: path should be string, bytes, os.PathLike or integer, not BilFile",
     "output_type": "error",
     "traceback": [
      "\u001b[1;31m---------------------------------------------------------------------------\u001b[0m",
      "\u001b[1;31mTypeError\u001b[0m                                 Traceback (most recent call last)",
      "\u001b[1;32m<ipython-input-149-02c729be9aa6>\u001b[0m in \u001b[0;36m<module>\u001b[1;34m\u001b[0m\n\u001b[0;32m      1\u001b[0m \u001b[0mimg\u001b[0m \u001b[1;33m=\u001b[0m \u001b[0mopen_image\u001b[0m\u001b[1;33m(\u001b[0m\u001b[1;34m'92AV3C.lan'\u001b[0m\u001b[1;33m)\u001b[0m\u001b[1;33m\u001b[0m\u001b[1;33m\u001b[0m\u001b[0m\n\u001b[0;32m      2\u001b[0m \u001b[1;32mimport\u001b[0m \u001b[0mos\u001b[0m\u001b[1;33m\u001b[0m\u001b[1;33m\u001b[0m\u001b[0m\n\u001b[1;32m----> 3\u001b[1;33m \u001b[0mstatinfo\u001b[0m \u001b[1;33m=\u001b[0m \u001b[0mos\u001b[0m\u001b[1;33m.\u001b[0m\u001b[0mstat\u001b[0m\u001b[1;33m(\u001b[0m\u001b[0mimg\u001b[0m\u001b[1;33m)\u001b[0m\u001b[1;33m\u001b[0m\u001b[1;33m\u001b[0m\u001b[0m\n\u001b[0m",
      "\u001b[1;31mTypeError\u001b[0m: stat: path should be string, bytes, os.PathLike or integer, not BilFile"
     ]
    }
   ],
   "source": [
    "img = open_image('92AV3C.lan')\n"
   ]
  },
  {
   "cell_type": "code",
   "execution_count": 3,
   "metadata": {},
   "outputs": [
    {
     "data": {
      "text/plain": [
       "spectral.io.bilfile.BilFile"
      ]
     },
     "execution_count": 3,
     "metadata": {},
     "output_type": "execute_result"
    }
   ],
   "source": [
    "img.__class__"
   ]
  },
  {
   "cell_type": "code",
   "execution_count": 4,
   "metadata": {},
   "outputs": [
    {
     "name": "stdout",
     "output_type": "stream",
     "text": [
      "\tData Source:   '.\\.\\92AV3C.lan'\n",
      "\t# Rows:            145\n",
      "\t# Samples:         145\n",
      "\t# Bands:           220\n",
      "\tInterleave:        BIL\n",
      "\tQuantization:  16 bits\n",
      "\tData format:     int16\n"
     ]
    }
   ],
   "source": [
    "print(img)"
   ]
  },
  {
   "cell_type": "code",
   "execution_count": 5,
   "metadata": {},
   "outputs": [
    {
     "data": {
      "text/plain": [
       "(145, 145, 220)"
      ]
     },
     "execution_count": 5,
     "metadata": {},
     "output_type": "execute_result"
    }
   ],
   "source": [
    "img.shape"
   ]
  },
  {
   "cell_type": "code",
   "execution_count": 6,
   "metadata": {},
   "outputs": [
    {
     "name": "stderr",
     "output_type": "stream",
     "text": [
      "c:\\users\\akul\\desktop\\python\\virenv\\lib\\site-packages\\ipykernel_launcher.py:1: DeprecationWarning: tostring() is deprecated. Use tobytes() instead.\n",
      "  \"\"\"Entry point for launching an IPython kernel.\n"
     ]
    }
   ],
   "source": [
    "arr = img.load()"
   ]
  },
  {
   "cell_type": "code",
   "execution_count": 7,
   "metadata": {},
   "outputs": [
    {
     "data": {
      "text/plain": [
       "spectral.spectral.ImageArray"
      ]
     },
     "execution_count": 7,
     "metadata": {},
     "output_type": "execute_result"
    }
   ],
   "source": [
    "arr.__class__"
   ]
  },
  {
   "cell_type": "code",
   "execution_count": 8,
   "metadata": {},
   "outputs": [
    {
     "name": "stdout",
     "output_type": "stream",
     "text": [
      "\t# Rows:            145\n",
      "\t# Samples:         145\n",
      "\t# Bands:           220\n",
      "\tData format:   float32\n"
     ]
    }
   ],
   "source": [
    "print(arr.info())"
   ]
  },
  {
   "cell_type": "code",
   "execution_count": 9,
   "metadata": {},
   "outputs": [
    {
     "data": {
      "text/plain": [
       "(145, 145, 220)"
      ]
     },
     "execution_count": 9,
     "metadata": {},
     "output_type": "execute_result"
    }
   ],
   "source": [
    "arr.shape"
   ]
  },
  {
   "cell_type": "code",
   "execution_count": 10,
   "metadata": {},
   "outputs": [
    {
     "data": {
      "text/plain": [
       "spectral.spectral.ImageArray"
      ]
     },
     "execution_count": 10,
     "metadata": {},
     "output_type": "execute_result"
    }
   ],
   "source": [
    "type(arr)"
   ]
  },
  {
   "cell_type": "code",
   "execution_count": 11,
   "metadata": {},
   "outputs": [],
   "source": [
    "arr = np.asarray(arr)"
   ]
  },
  {
   "cell_type": "code",
   "execution_count": 12,
   "metadata": {},
   "outputs": [
    {
     "data": {
      "text/plain": [
       "numpy.ndarray"
      ]
     },
     "execution_count": 12,
     "metadata": {},
     "output_type": "execute_result"
    }
   ],
   "source": [
    "type(arr)"
   ]
  },
  {
   "cell_type": "code",
   "execution_count": 13,
   "metadata": {},
   "outputs": [
    {
     "data": {
      "text/plain": [
       "array([[[3172., 4142., 4506., ..., 1020., 1020., 1005.],\n",
       "        [3348., 4266., 4502., ..., 1029., 1020., 1000.],\n",
       "        [3687., 4266., 4421., ..., 1030., 1016., 1009.],\n",
       "        ...,\n",
       "        [3341., 3890., 4320., ..., 1021., 1015., 1025.],\n",
       "        [3170., 4130., 4320., ..., 1024., 1020., 1011.],\n",
       "        [3172., 3890., 4316., ..., 1034., 1016., 1015.]],\n",
       "\n",
       "       [[3344., 4388., 4334., ..., 1030., 1006., 1015.],\n",
       "        [3515., 4264., 4592., ..., 1039., 1015., 1020.],\n",
       "        [3518., 4268., 4423., ..., 1026., 1015., 1020.],\n",
       "        ...,\n",
       "        [3859., 4512., 4605., ..., 1035., 1015.,  996.],\n",
       "        [3686., 4264., 4690., ..., 1012., 1020., 1014.],\n",
       "        [3512., 4268., 4597., ..., 1019., 1016., 1010.]],\n",
       "\n",
       "       [[3512., 4146., 4416., ..., 1029., 1025., 1010.],\n",
       "        [3344., 4389., 4416., ..., 1021., 1011., 1000.],\n",
       "        [3512., 4273., 4420., ..., 1033., 1010., 1014.],\n",
       "        ...,\n",
       "        [3341., 4266., 4509., ..., 1025., 1010., 1005.],\n",
       "        [3344., 4262., 4496., ..., 1029., 1020., 1005.],\n",
       "        [3510., 4142., 4230., ..., 1025., 1011., 1010.]],\n",
       "\n",
       "       ...,\n",
       "\n",
       "       [[3324., 3728., 4002., ..., 1004., 1004., 1000.],\n",
       "        [2983., 3604., 3829., ..., 1013., 1008.,  995.],\n",
       "        [2988., 3612., 3913., ..., 1001., 1004., 1003.],\n",
       "        ...,\n",
       "        [3332., 4115., 4103., ..., 1005., 1013., 1009.],\n",
       "        [3498., 4111., 4103., ..., 1013., 1004., 1004.],\n",
       "        [3156., 3991., 4103., ..., 1014., 1000., 1009.]],\n",
       "\n",
       "       [[3161., 3731., 3834., ..., 1000., 1000., 1009.],\n",
       "        [3495., 3742., 4011., ...,  991., 1003., 1000.],\n",
       "        [2988., 4114., 4011., ..., 1008., 1013., 1004.],\n",
       "        ...,\n",
       "        [3156., 3858., 4016., ..., 1004., 1003., 1009.],\n",
       "        [3159., 3858., 4100., ..., 1000., 1000.,  995.],\n",
       "        [3329., 3866., 4003., ..., 1008., 1000., 1003.]],\n",
       "\n",
       "       [[2979., 3728., 3732., ..., 1004., 1000.,  995.],\n",
       "        [2977., 3728., 3741., ..., 1009.,  990., 1013.],\n",
       "        [2814., 3728., 3914., ..., 1009., 1003., 1019.],\n",
       "        ...,\n",
       "        [3153., 3864., 4282., ..., 1008., 1000., 1009.],\n",
       "        [3155., 4104., 4109., ..., 1005., 1003., 1004.],\n",
       "        [3323., 3860., 4197., ..., 1004., 1000., 1000.]]], dtype=float32)"
      ]
     },
     "execution_count": 13,
     "metadata": {},
     "output_type": "execute_result"
    }
   ],
   "source": [
    "arr"
   ]
  },
  {
   "cell_type": "code",
   "execution_count": 14,
   "metadata": {},
   "outputs": [
    {
     "data": {
      "text/plain": [
       "array([[[ 1.16692761e+10+0.00000000e+00j,\n",
       "          1.02990726e+09-4.07326993e+09j,\n",
       "         -8.62757564e+08-1.30581518e+09j, ...,\n",
       "          5.84496443e+07+7.23551823e+07j,\n",
       "         -8.62757564e+08+1.30581518e+09j,\n",
       "          1.02990726e+09+4.07326993e+09j],\n",
       "        [-5.63324093e+07-8.38148813e+07j,\n",
       "          3.73239477e+07-6.91448899e+07j,\n",
       "         -1.32116647e+08-7.12567478e+07j, ...,\n",
       "          1.01715984e+08-1.94084943e+07j,\n",
       "          4.14949996e+07-1.51557525e+08j,\n",
       "         -7.92391003e+07-3.82698013e+07j],\n",
       "        [ 6.46202692e+06+9.91221654e+06j,\n",
       "         -3.01870641e+07-1.25044421e+07j,\n",
       "         -2.42252103e+06+5.04399769e+07j, ...,\n",
       "         -3.31989526e+07-2.24403830e+06j,\n",
       "         -3.35495803e+07+3.88306540e+07j,\n",
       "          2.50884324e+07+2.87549558e+07j],\n",
       "        ...,\n",
       "        [ 2.36066072e+07-8.21515666e+06j,\n",
       "          2.85955988e+07-1.58623594e+07j,\n",
       "         -1.22614142e+07-5.05351233e+07j, ...,\n",
       "          2.90995339e+07+6.26230700e+06j,\n",
       "          2.90795107e+07-2.74804668e+07j,\n",
       "         -1.69122851e+07-1.25499503e+07j],\n",
       "        [ 6.46202692e+06-9.91221654e+06j,\n",
       "          2.50884324e+07-2.87549558e+07j,\n",
       "         -3.35495803e+07-3.88306540e+07j, ...,\n",
       "          3.49116611e+07-1.60066262e+07j,\n",
       "         -2.42252103e+06-5.04399769e+07j,\n",
       "         -3.01870641e+07+1.25044421e+07j],\n",
       "        [-5.63324093e+07+8.38148813e+07j,\n",
       "         -7.92391003e+07+3.82698013e+07j,\n",
       "          4.14949996e+07+1.51557525e+08j, ...,\n",
       "         -8.32071232e+07-5.62870846e+07j,\n",
       "         -1.32116647e+08+7.12567478e+07j,\n",
       "          3.73239477e+07+6.91448899e+07j]],\n",
       "\n",
       "       [[-1.18424698e+08-8.74367777e+07j,\n",
       "          5.84431144e+07-4.10054904e+07j,\n",
       "         -1.24103401e+08-1.02032075e+08j, ...,\n",
       "          1.29669813e+08-3.22156250e+07j,\n",
       "          6.23382290e+07-1.92179294e+08j,\n",
       "         -9.27245459e+07-8.76448350e+07j],\n",
       "        [ 7.23158614e+07-6.45002215e+06j,\n",
       "          4.76264984e+07+6.94363488e+07j,\n",
       "          1.06739572e+08-8.75443816e+07j, ...,\n",
       "         -2.29672114e+06+7.65175838e+07j,\n",
       "          1.05043212e+08+5.84800839e+07j,\n",
       "          3.34103368e+07-5.46256222e+07j],\n",
       "        [-3.01351548e+07-4.30397981e+07j,\n",
       "         -5.10673613e+07-3.07282719e+07j,\n",
       "         -5.91790372e+07+4.68493359e+07j, ...,\n",
       "          7.03058163e+06-3.89568040e+07j,\n",
       "         -4.87812085e+07-3.10138516e+07j,\n",
       "         -3.62549997e+06+3.24378198e+07j],\n",
       "        ...,\n",
       "        [ 4.98892263e+07+3.17779223e+06j,\n",
       "          2.51790957e+07-4.44821397e+05j,\n",
       "          3.05429378e+07-2.99145999e+07j, ...,\n",
       "         -1.45305823e+07+2.83315727e+07j,\n",
       "          2.48807344e+07+4.09038978e+07j,\n",
       "          3.02033464e+07+3.38850705e+06j],\n",
       "        [-2.95472471e+07-7.60404726e+07j,\n",
       "         -2.61240213e+07-1.41869178e+06j,\n",
       "         -1.92552416e+07-1.33619449e+07j, ...,\n",
       "          1.97871281e+07+2.13879686e+07j,\n",
       "          5.37162634e+07-7.04469623e+06j,\n",
       "          2.93696171e+07-5.64535555e+07j],\n",
       "        [ 6.09239768e+07-6.17187400e+07j,\n",
       "         -1.50141235e+07+9.95537787e+06j,\n",
       "          3.46780602e+07-1.64905047e+07j, ...,\n",
       "         -2.18797671e+07+4.07075057e+07j,\n",
       "          4.23624940e+07+6.34578768e+07j,\n",
       "          6.66800782e+07-2.94258006e+06j]],\n",
       "\n",
       "       [[-9.07867270e+05+4.87961213e+07j,\n",
       "          4.36097823e+07-1.15390336e+07j,\n",
       "         -5.72110072e+06-3.94775555e+07j, ...,\n",
       "          2.34699697e+07+1.61235324e+06j,\n",
       "          2.07213617e+07-3.41539826e+07j,\n",
       "         -4.31664098e+07-3.22367014e+07j],\n",
       "        [-3.16408884e+07+5.55010949e+07j,\n",
       "         -1.14497756e+07+2.10360377e+07j,\n",
       "          2.18871348e+07+5.11632571e+07j, ...,\n",
       "         -3.59233951e+07-1.13716046e+07j,\n",
       "         -4.31680574e+07+3.15922127e+07j,\n",
       "          6.43301991e+06+1.67368122e+07j],\n",
       "        [ 3.79220078e+07-1.07533310e+07j,\n",
       "          1.19382637e+07-5.04683566e+06j,\n",
       "          1.38709016e+07-1.91730759e+07j, ...,\n",
       "         -1.82572453e+07+1.84021628e+07j,\n",
       "          1.41777514e+07+4.02337064e+07j,\n",
       "          3.93630650e+07+6.29491028e+06j],\n",
       "        ...,\n",
       "        [ 6.40439166e+05-9.66093102e+06j,\n",
       "         -2.25562750e+07+7.31813796e+06j,\n",
       "          1.17918185e+07+2.01216557e+07j, ...,\n",
       "         -9.42408453e+06+5.09950619e+06j,\n",
       "          2.81250491e+04+2.02756453e+07j,\n",
       "          2.22131262e+07-1.09495583e+06j],\n",
       "        [ 1.41790012e+07+3.85052646e+06j,\n",
       "         -2.21438029e+07-3.74124495e+07j,\n",
       "         -3.99238247e+07+3.48129600e+07j, ...,\n",
       "         -1.04499959e+07-2.95067062e+07j,\n",
       "         -5.11770198e+07-6.79996805e+06j,\n",
       "         -8.37631375e+06+4.89244161e+07j],\n",
       "        [ 9.23337282e+06-4.51183932e+07j,\n",
       "         -2.66994111e+07-2.08674833e+07j,\n",
       "         -3.05755337e+07+2.81928358e+06j, ...,\n",
       "          1.39029430e+07-1.36949506e+07j,\n",
       "          9.50173091e+05-1.80920826e+07j,\n",
       "          3.49594047e+06-9.71068321e+05j]],\n",
       "\n",
       "       ...,\n",
       "\n",
       "       [[ 5.79221249e+06-4.17550550e+06j,\n",
       "         -5.16704822e+07+4.61398861e+07j,\n",
       "          5.29580182e+07+5.69586026e+07j, ...,\n",
       "         -4.39558870e+07+9.39368120e+06j,\n",
       "         -1.04446890e+07+6.28170839e+07j,\n",
       "          4.29748992e+07+5.61698894e+06j],\n",
       "        [-8.23229673e+06+2.51000296e+07j,\n",
       "         -3.83428509e+07-3.13255983e+06j,\n",
       "          3.03781717e+06+6.04647699e+07j, ...,\n",
       "         -2.78525236e+07-1.49637769e+07j,\n",
       "         -4.23335496e+07+2.74000084e+07j,\n",
       "          1.68934329e+07+2.46272989e+07j],\n",
       "        [-3.36136101e+07+9.51640290e+06j,\n",
       "          6.75815053e+06+7.84859552e+06j,\n",
       "         -3.87062029e+06+4.56801529e+06j, ...,\n",
       "          5.44774470e+06-5.01214710e+06j,\n",
       "         -2.83551482e+06-1.67643194e+07j,\n",
       "         -1.46700111e+07-1.11010685e+07j],\n",
       "        ...,\n",
       "        [-5.80088850e+07+3.34371876e+07j,\n",
       "         -1.39072004e+07+1.60350464e+07j,\n",
       "         -1.20669902e+07+4.74960384e+07j, ...,\n",
       "         -1.05871530e+07-3.50909503e+07j,\n",
       "         -5.21956005e+07-2.03438049e+07j,\n",
       "         -2.74925973e+07+1.68017738e+07j],\n",
       "        [-1.99131327e+06-2.03443789e+07j,\n",
       "         -3.28100943e+06-2.38965403e+07j,\n",
       "         -3.16177093e+07+2.37489897e+06j, ...,\n",
       "          5.82951652e+06-1.80608408e+07j,\n",
       "         -2.17540221e+07-1.95361034e+07j,\n",
       "         -6.36042941e+06+2.38013347e+07j],\n",
       "        [ 1.56072069e+07+4.49164856e+07j,\n",
       "          2.44537452e+07+1.11622676e+07j,\n",
       "          1.88506904e+07-1.33261992e+07j, ...,\n",
       "          4.38310596e+06+1.36092114e+05j,\n",
       "          1.42099432e+06-1.22005501e+07j,\n",
       "         -3.58625756e+07+1.22624714e+05j]],\n",
       "\n",
       "       [[-9.07867270e+05-4.87961213e+07j,\n",
       "         -4.31664098e+07+3.22367014e+07j,\n",
       "          2.07213617e+07+3.41539826e+07j, ...,\n",
       "         -2.85428649e+07+5.99079621e+06j,\n",
       "         -5.72110072e+06+3.94775555e+07j,\n",
       "          4.36097823e+07+1.15390336e+07j],\n",
       "        [ 9.23337282e+06+4.51183932e+07j,\n",
       "          3.49594047e+06+9.71068321e+05j,\n",
       "          9.50173091e+05+1.80920826e+07j, ...,\n",
       "         -1.12135278e+07-1.67323397e+07j,\n",
       "         -3.05755337e+07-2.81928358e+06j,\n",
       "         -2.66994111e+07+2.08674833e+07j],\n",
       "        [ 1.41790012e+07-3.85052646e+06j,\n",
       "         -8.37631375e+06-4.89244161e+07j,\n",
       "         -5.11770198e+07+6.79996805e+06j, ...,\n",
       "          1.42740561e+07-3.33892312e+07j,\n",
       "         -3.99238247e+07-3.48129600e+07j,\n",
       "         -2.21438029e+07+3.74124495e+07j],\n",
       "        ...,\n",
       "        [ 1.60033586e+07+3.38453779e+07j,\n",
       "          1.33048768e+07+5.90465805e+06j,\n",
       "          2.11274863e+07+7.13386529e+06j, ...,\n",
       "         -2.26638822e+07+3.07251735e+06j,\n",
       "         -1.92119628e+07+2.63618032e+07j,\n",
       "          4.13381508e+06+2.55745203e+07j],\n",
       "        [ 3.79220078e+07+1.07533310e+07j,\n",
       "          3.93630650e+07-6.29491028e+06j,\n",
       "          1.41777514e+07-4.02337064e+07j, ...,\n",
       "         -4.87123644e+06+1.55856685e+07j,\n",
       "          1.38709016e+07+1.91730759e+07j,\n",
       "          1.19382637e+07+5.04683566e+06j],\n",
       "        [-3.16408884e+07-5.55010949e+07j,\n",
       "          6.43301991e+06-1.67368122e+07j,\n",
       "         -4.31680574e+07-3.15922127e+07j, ...,\n",
       "          3.77755790e+07-5.25483155e+06j,\n",
       "          2.18871348e+07-5.11632571e+07j,\n",
       "         -1.14497756e+07-2.10360377e+07j]],\n",
       "\n",
       "       [[-1.18424698e+08+8.74367777e+07j,\n",
       "         -9.27245459e+07+8.76448350e+07j,\n",
       "          6.23382290e+07+1.92179294e+08j, ...,\n",
       "         -1.10042459e+08-4.02615517e+07j,\n",
       "         -1.24103401e+08+1.02032075e+08j,\n",
       "          5.84431144e+07+4.10054904e+07j],\n",
       "        [ 6.09239768e+07+6.17187400e+07j,\n",
       "          6.66800782e+07+2.94258006e+06j,\n",
       "          4.23624940e+07-6.34578768e+07j, ...,\n",
       "          2.79515814e+06+2.63176551e+07j,\n",
       "          3.46780602e+07+1.64905047e+07j,\n",
       "         -1.50141235e+07-9.95537787e+06j],\n",
       "        [-2.95472471e+07+7.60404726e+07j,\n",
       "          2.93696171e+07+5.64535555e+07j,\n",
       "          5.37162634e+07+7.04469623e+06j, ...,\n",
       "         -2.26468823e+07-3.36489334e+06j,\n",
       "         -1.92552416e+07+1.33619449e+07j,\n",
       "         -2.61240213e+07+1.41869178e+06j],\n",
       "        ...,\n",
       "        [-1.59015767e+07+2.29912160e+06j,\n",
       "         -2.66384204e+07-2.05848802e+07j,\n",
       "         -2.95827297e+07+4.18300076e+07j, ...,\n",
       "         -9.99891337e+06-2.61345230e+07j,\n",
       "         -4.46071633e+07-6.19801414e+06j,\n",
       "         -4.15869992e+06+3.12362374e+07j],\n",
       "        [-3.01351548e+07+4.30397981e+07j,\n",
       "         -3.62549997e+06-3.24378198e+07j,\n",
       "         -4.87812085e+07+3.10138516e+07j, ...,\n",
       "          7.03476874e+06-4.69132333e+07j,\n",
       "         -5.91790372e+07-4.68493359e+07j,\n",
       "         -5.10673613e+07+3.07282719e+07j],\n",
       "        [ 7.23158614e+07+6.45002215e+06j,\n",
       "          3.34103368e+07+5.46256222e+07j,\n",
       "          1.05043212e+08-5.84800839e+07j, ...,\n",
       "         -2.43187979e+07+8.81670724e+07j,\n",
       "          1.06739572e+08+8.75443816e+07j,\n",
       "          4.76264984e+07-6.94363488e+07j]]])"
      ]
     },
     "execution_count": 14,
     "metadata": {},
     "output_type": "execute_result"
    }
   ],
   "source": [
    "import math\n",
    "#for k in range(len(img_data)):\n",
    "valuef = 0\n",
    "valueff = np.zeros(145)\n",
    "for j in range(220):\n",
    "    for i in range(len(img_data)):\n",
    "        for k in range(len(img_data)):  \n",
    "            for n in range(len(img_data)):\n",
    "                complexn = complex((img_data[i][j][n]*(np.exp(-2*n*k*np.pi)/145)), (img_data[i][j][n]*(np.exp(-2*n*k*np.pi)/145)))\n",
    "                valuef = complexn + valuef\n",
    "                valuef = np.asarray(valuef)\n",
    "                #abc = np.append(valueff, valuef)\n",
    "            valueff  = valuef\n",
    "        #print (math.e**((math.pi)*1j))"
   ]
  },
  {
   "cell_type": "code",
   "execution_count": 44,
   "metadata": {},
   "outputs": [
    {
     "data": {
      "text/plain": [
       "(145, 145, 220)"
      ]
     },
     "execution_count": 44,
     "metadata": {},
     "output_type": "execute_result"
    }
   ],
   "source": [
    "img_data = np.asarray(arr)\n",
    "img_data.s"
   ]
  },
  {
   "cell_type": "code",
   "execution_count": 16,
   "metadata": {},
   "outputs": [
    {
     "ename": "KeyboardInterrupt",
     "evalue": "",
     "output_type": "error",
     "traceback": [
      "\u001b[1;31m---------------------------------------------------------------------------\u001b[0m",
      "\u001b[1;31mKeyboardInterrupt\u001b[0m                         Traceback (most recent call last)",
      "\u001b[1;32m<ipython-input-16-598fbf60854a>\u001b[0m in \u001b[0;36m<module>\u001b[1;34m\u001b[0m\n\u001b[0;32m      7\u001b[0m         \u001b[1;32mfor\u001b[0m \u001b[0mk\u001b[0m \u001b[1;32min\u001b[0m \u001b[0mrange\u001b[0m\u001b[1;33m(\u001b[0m\u001b[0mlen\u001b[0m\u001b[1;33m(\u001b[0m\u001b[0mimg_data\u001b[0m\u001b[1;33m)\u001b[0m\u001b[1;33m)\u001b[0m\u001b[1;33m:\u001b[0m\u001b[1;33m\u001b[0m\u001b[1;33m\u001b[0m\u001b[0m\n\u001b[0;32m      8\u001b[0m             \u001b[1;32mfor\u001b[0m \u001b[0mn\u001b[0m \u001b[1;32min\u001b[0m \u001b[0mrange\u001b[0m\u001b[1;33m(\u001b[0m\u001b[0mlen\u001b[0m\u001b[1;33m(\u001b[0m\u001b[0mimg_data\u001b[0m\u001b[1;33m)\u001b[0m\u001b[1;33m)\u001b[0m\u001b[1;33m:\u001b[0m\u001b[1;33m\u001b[0m\u001b[1;33m\u001b[0m\u001b[0m\n\u001b[1;32m----> 9\u001b[1;33m                 \u001b[0mcomplexn\u001b[0m \u001b[1;33m=\u001b[0m \u001b[0mcomplex\u001b[0m\u001b[1;33m(\u001b[0m\u001b[1;33m(\u001b[0m\u001b[0mimg_data\u001b[0m\u001b[1;33m[\u001b[0m\u001b[0mi\u001b[0m\u001b[1;33m]\u001b[0m\u001b[1;33m[\u001b[0m\u001b[0mj\u001b[0m\u001b[1;33m]\u001b[0m\u001b[1;33m[\u001b[0m\u001b[0mn\u001b[0m\u001b[1;33m]\u001b[0m\u001b[1;33m*\u001b[0m\u001b[1;33m(\u001b[0m\u001b[0mnp\u001b[0m\u001b[1;33m.\u001b[0m\u001b[0mexp\u001b[0m\u001b[1;33m(\u001b[0m\u001b[1;33m-\u001b[0m\u001b[1;36m2\u001b[0m\u001b[1;33m*\u001b[0m\u001b[0mn\u001b[0m\u001b[1;33m*\u001b[0m\u001b[0mk\u001b[0m\u001b[1;33m*\u001b[0m\u001b[0mnp\u001b[0m\u001b[1;33m.\u001b[0m\u001b[0mpi\u001b[0m\u001b[1;33m)\u001b[0m\u001b[1;33m/\u001b[0m\u001b[1;36m145\u001b[0m\u001b[1;33m)\u001b[0m\u001b[1;33m)\u001b[0m\u001b[1;33m,\u001b[0m \u001b[1;33m(\u001b[0m\u001b[0mimg_data\u001b[0m\u001b[1;33m[\u001b[0m\u001b[0mi\u001b[0m\u001b[1;33m]\u001b[0m\u001b[1;33m[\u001b[0m\u001b[0mj\u001b[0m\u001b[1;33m]\u001b[0m\u001b[1;33m[\u001b[0m\u001b[0mn\u001b[0m\u001b[1;33m]\u001b[0m\u001b[1;33m*\u001b[0m\u001b[1;33m(\u001b[0m\u001b[0mnp\u001b[0m\u001b[1;33m.\u001b[0m\u001b[0mexp\u001b[0m\u001b[1;33m(\u001b[0m\u001b[1;33m-\u001b[0m\u001b[1;36m2\u001b[0m\u001b[1;33m*\u001b[0m\u001b[0mn\u001b[0m\u001b[1;33m*\u001b[0m\u001b[0mk\u001b[0m\u001b[1;33m*\u001b[0m\u001b[0mnp\u001b[0m\u001b[1;33m.\u001b[0m\u001b[0mpi\u001b[0m\u001b[1;33m)\u001b[0m\u001b[1;33m/\u001b[0m\u001b[1;36m145\u001b[0m\u001b[1;33m)\u001b[0m\u001b[1;33m)\u001b[0m\u001b[1;33m)\u001b[0m\u001b[1;33m\u001b[0m\u001b[1;33m\u001b[0m\u001b[0m\n\u001b[0m\u001b[0;32m     10\u001b[0m                 \u001b[0mvaluef\u001b[0m \u001b[1;33m=\u001b[0m \u001b[0mcomplexn\u001b[0m \u001b[1;33m+\u001b[0m \u001b[0mvaluef\u001b[0m\u001b[1;33m\u001b[0m\u001b[1;33m\u001b[0m\u001b[0m\n\u001b[0;32m     11\u001b[0m                 \u001b[0mvaluef\u001b[0m \u001b[1;33m=\u001b[0m \u001b[0mnp\u001b[0m\u001b[1;33m.\u001b[0m\u001b[0masarray\u001b[0m\u001b[1;33m(\u001b[0m\u001b[0mvaluef\u001b[0m\u001b[1;33m)\u001b[0m\u001b[1;33m\u001b[0m\u001b[1;33m\u001b[0m\u001b[0m\n",
      "\u001b[1;31mKeyboardInterrupt\u001b[0m: "
     ]
    }
   ],
   "source": [
    "import math\n",
    "#for k in range(len(img_data)):\n",
    "valuef = 0\n",
    "valueff = np.zeros(145)\n",
    "for j in range(220):\n",
    "    for i in range(len(img_data)):\n",
    "        for k in range(len(img_data)):  \n",
    "            for n in range(len(img_data)):\n",
    "                complexn = complex((img_data[i][j][n]*(np.exp(-2*n*k*np.pi)/145)), (img_data[i][j][n]*(np.exp(-2*n*k*np.pi)/145)))\n",
    "                valuef = complexn + valuef\n",
    "                valuef = np.asarray(valuef)\n",
    "                #abc = np.append(valueff, valuef)\n",
    "            valueff  = valuef\n",
    "        #print (math.e**((math.pi)*1j))"
   ]
  },
  {
   "cell_type": "code",
   "execution_count": 144,
   "metadata": {},
   "outputs": [],
   "source": [
    "img_data = np.asarray(arr)\n",
    "for m in range(220):\n",
    "    abc = img_data[:,:,m].shape"
   ]
  },
  {
   "cell_type": "code",
   "execution_count": 145,
   "metadata": {},
   "outputs": [
    {
     "data": {
      "text/plain": [
       "(145, 145)"
      ]
     },
     "execution_count": 145,
     "metadata": {},
     "output_type": "execute_result"
    }
   ],
   "source": [
    "abc"
   ]
  },
  {
   "cell_type": "code",
   "execution_count": 150,
   "metadata": {},
   "outputs": [
    {
     "name": "stdout",
     "output_type": "stream",
     "text": [
      "(8, 8)\n"
     ]
    }
   ],
   "source": [
    "for m in range(200):\n",
    "    height,width = img_data[:,:,m].shape\n",
    "    coef = np.zeros((145,145))\n",
    "\n",
    "    # function for dividing the image in 8 * 8 pixels and then applying DCT \n",
    "    a = 0\n",
    "    while a<= height:\n",
    "        b = 0\n",
    "        while b<=width:\n",
    "            xyz = img_data[a:a+8,b:b+8,m]\n",
    "            dct = np.zeros((8,8))\n",
    "            h,w = xyz.shape\n",
    "            for i in range(0,h):\n",
    "                for j in range(0,w):\n",
    "                    if i == 0:\n",
    "                        ci = 1 / math.sqrt(h)\n",
    "                    else:\n",
    "                        ci = math.sqrt(2)/math.sqrt(h)\n",
    "                    if j == 0:\n",
    "                        cj = 1/math.sqrt(width)\n",
    "                    else:\n",
    "                        cj = math.sqrt(2)/math.sqrt(w)\n",
    "\n",
    "                    sum = 0\n",
    "                    for k in range (0,h):\n",
    "                        for l in range (0,w):\n",
    "                            dct1 = xyz[k,l] * math.cos((2 * k + 1) * i * pi / (2 * h)) *  math.cos((2 * l + 1) * j * pi / (2 * w))\n",
    "\n",
    "                            sum = sum + dct1\n",
    "                    dct[i,j] = ci * cj * sum\n",
    "\n",
    "            #printing the coefficients          \n",
    "            #print(dct)\n",
    "            #printing the coordinates of the 8 * 8 parts of the original image\n",
    "            #print(\"row :\",a,\":\",a+8)\n",
    "            #print(\"column\",b,\":\",b+8)\n",
    "\n",
    "            b= b+8\n",
    "        a = a+8     \n",
    "\n",
    "print(dct.shape)"
   ]
  },
  {
   "cell_type": "code",
   "execution_count": null,
   "metadata": {},
   "outputs": [],
   "source": []
  }
 ],
 "metadata": {
  "kernelspec": {
   "display_name": "Python 3",
   "language": "python",
   "name": "python3"
  },
  "language_info": {
   "codemirror_mode": {
    "name": "ipython",
    "version": 3
   },
   "file_extension": ".py",
   "mimetype": "text/x-python",
   "name": "python",
   "nbconvert_exporter": "python",
   "pygments_lexer": "ipython3",
   "version": "3.6.7"
  }
 },
 "nbformat": 4,
 "nbformat_minor": 2
}
